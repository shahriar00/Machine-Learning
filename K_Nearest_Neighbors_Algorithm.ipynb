{
  "nbformat": 4,
  "nbformat_minor": 0,
  "metadata": {
    "colab": {
      "provenance": [],
      "authorship_tag": "ABX9TyNVhp8Xhyn8J6J6wy7WLVVh"
    },
    "kernelspec": {
      "name": "python3",
      "display_name": "Python 3"
    },
    "language_info": {
      "name": "python"
    }
  },
  "cells": [
    {
      "cell_type": "code",
      "execution_count": 1,
      "metadata": {
        "id": "IuV06cecU-Li"
      },
      "outputs": [],
      "source": [
        "weather = ['sunny','overcast','rainy','sunny','sunny','rainy','rainy','rainy','overcast','rainy','sunny','overcast','overcast','rainy']\n",
        "temp = ['hot','hot','hot','mild','mild','cold','cold','cold','hot','hot','mild','cold','hot','mild']\n",
        "play = ['no','no','yes','yes','yes','no','no','yes','no','yes','no','yes','no','yes']\n"
      ]
    },
    {
      "cell_type": "code",
      "source": [
        "from sklearn import preprocessing\n",
        "n = preprocessing.LabelEncoder()\n",
        "weatheencode = n.fit_transform(weather)\n",
        "tempencode = n.fit_transform(temp)\n",
        "label = n.fit_transform(play)\n",
        "label"
      ],
      "metadata": {
        "colab": {
          "base_uri": "https://localhost:8080/"
        },
        "id": "pqaU6RWEHriu",
        "outputId": "e41f6cb9-fce0-4d17-c919-4005d091a939"
      },
      "execution_count": 9,
      "outputs": [
        {
          "output_type": "execute_result",
          "data": {
            "text/plain": [
              "array([0, 0, 1, 1, 1, 0, 0, 1, 0, 1, 0, 1, 0, 1])"
            ]
          },
          "metadata": {},
          "execution_count": 9
        }
      ]
    },
    {
      "cell_type": "code",
      "source": [
        "feature = list(zip(weatheencode,tempencode))"
      ],
      "metadata": {
        "id": "JnuNOTaOLImw"
      },
      "execution_count": 6,
      "outputs": []
    },
    {
      "cell_type": "code",
      "source": [
        "from sklearn.neighbors import KNeighborsClassifier\n",
        "kn = KNeighborsClassifier(n_neighbors=3)\n",
        "\n",
        "model = kn.fit(feature,label)\n",
        "model.predict([[0,2]])"
      ],
      "metadata": {
        "colab": {
          "base_uri": "https://localhost:8080/"
        },
        "id": "10pT62weL3uZ",
        "outputId": "9d9ff94c-4e2c-4801-b51e-2c10b852418b"
      },
      "execution_count": 8,
      "outputs": [
        {
          "output_type": "execute_result",
          "data": {
            "text/plain": [
              "array([0])"
            ]
          },
          "metadata": {},
          "execution_count": 8
        }
      ]
    }
  ]
}