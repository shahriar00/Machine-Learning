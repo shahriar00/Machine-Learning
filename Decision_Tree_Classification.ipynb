{
  "nbformat": 4,
  "nbformat_minor": 0,
  "metadata": {
    "colab": {
      "provenance": [],
      "authorship_tag": "ABX9TyMqveWErpN1i6qcJLXURTwb"
    },
    "kernelspec": {
      "name": "python3",
      "display_name": "Python 3"
    },
    "language_info": {
      "name": "python"
    }
  },
  "cells": [
    {
      "cell_type": "code",
      "execution_count": 3,
      "metadata": {
        "id": "zNxYYzLgbkIN"
      },
      "outputs": [],
      "source": [
        "import pandas as pd\n",
        "from sklearn import tree"
      ]
    },
    {
      "cell_type": "code",
      "source": [
        "df = pd.read_csv('shoe.csv')\n",
        "df.head()"
      ],
      "metadata": {
        "id": "k-E9DrwUln1W"
      },
      "execution_count": null,
      "outputs": []
    },
    {
      "cell_type": "code",
      "source": [
        "x = df.iloc[:,:-1]\n",
        "x"
      ],
      "metadata": {
        "id": "pQDNz7PTlpW9"
      },
      "execution_count": null,
      "outputs": []
    },
    {
      "cell_type": "code",
      "source": [
        "y = df.iloc[:,3]\n",
        "y"
      ],
      "metadata": {
        "id": "gCnZQrX9oABb"
      },
      "execution_count": null,
      "outputs": []
    },
    {
      "cell_type": "code",
      "source": [
        "classify = tree.DecisionTreeClassifier()\n",
        "classify.fit(x,y)\n",
        "predict = classify.predict([[200,80,44]])\n",
        "predict"
      ],
      "metadata": {
        "id": "ijkbWczyoGiD"
      },
      "execution_count": null,
      "outputs": []
    },
    {
      "cell_type": "code",
      "source": [
        "data = pd.read_csv('newshoe.csv')\n",
        "data.head()"
      ],
      "metadata": {
        "id": "g1CrnnTjoraj"
      },
      "execution_count": null,
      "outputs": []
    },
    {
      "cell_type": "code",
      "source": [
        "p = data.iloc[:,:-1]\n",
        "p"
      ],
      "metadata": {
        "id": "KJAmt4dcyLTG"
      },
      "execution_count": null,
      "outputs": []
    },
    {
      "cell_type": "code",
      "source": [
        "from sklearn.preprocessing import LabelEncoder\n",
        "label = LabelEncoder()\n",
        "p = p.apply(LabelEncoder().fit_transform)\n",
        "p"
      ],
      "metadata": {
        "id": "1L9b9tyKzUYn"
      },
      "execution_count": null,
      "outputs": []
    },
    {
      "cell_type": "code",
      "source": [
        "q = data.iloc[:,4]\n",
        "q"
      ],
      "metadata": {
        "colab": {
          "base_uri": "https://localhost:8080/"
        },
        "id": "5TPeFk_R0Am-",
        "outputId": "28400f4f-ee62-4575-d4e7-901ae5c76bae"
      },
      "execution_count": 20,
      "outputs": [
        {
          "output_type": "execute_result",
          "data": {
            "text/plain": [
              "0     no\n",
              "1    yes\n",
              "2    yes\n",
              "3    yes\n",
              "4     no\n",
              "5     no\n",
              "6     no\n",
              "7     no\n",
              "8    yes\n",
              "9    yes\n",
              "Name: buy, dtype: object"
            ]
          },
          "metadata": {},
          "execution_count": 20
        }
      ]
    },
    {
      "cell_type": "code",
      "source": [
        "model = tree.DecisionTreeClassifier()\n",
        "model.fit(p.iloc[:,0:4],q)"
      ],
      "metadata": {
        "id": "FGlHkRYu0Pzt"
      },
      "execution_count": null,
      "outputs": []
    },
    {
      "cell_type": "code",
      "source": [
        "import numpy as np\n",
        "xinput = np.array([0,1,2,0])\n",
        "model.predict([xinput])"
      ],
      "metadata": {
        "id": "iGKKdN8U1lVl"
      },
      "execution_count": null,
      "outputs": []
    }
  ]
}